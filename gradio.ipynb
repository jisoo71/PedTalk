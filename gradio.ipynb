{
  "nbformat": 4,
  "nbformat_minor": 0,
  "metadata": {
    "colab": {
      "provenance": [],
      "gpuType": "T4",
      "include_colab_link": true
    },
    "kernelspec": {
      "name": "python3",
      "display_name": "Python 3"
    },
    "language_info": {
      "name": "python"
    },
    "accelerator": "GPU"
  },
  "cells": [
    {
      "cell_type": "markdown",
      "metadata": {
        "id": "view-in-github",
        "colab_type": "text"
      },
      "source": [
        "<a href=\"https://colab.research.google.com/github/jisoo71/PedTalk/blob/main/gradio.ipynb\" target=\"_parent\"><img src=\"https://colab.research.google.com/assets/colab-badge.svg\" alt=\"Open In Colab\"/></a>"
      ]
    },
    {
      "cell_type": "code",
      "source": [
        "!pip install --upgrade gradio"
      ],
      "metadata": {
        "colab": {
          "base_uri": "https://localhost:8080/",
          "height": 1000
        },
        "id": "U4jVVB0Sjm--",
        "outputId": "ff2730c0-ca45-41ca-d283-66af95d13578"
      },
      "execution_count": null,
      "outputs": [
        {
          "output_type": "stream",
          "name": "stdout",
          "text": [
            "Requirement already satisfied: gradio in /usr/local/lib/python3.11/dist-packages (5.31.0)\n",
            "Collecting gradio\n",
            "  Downloading gradio-5.38.0-py3-none-any.whl.metadata (16 kB)\n",
            "Requirement already satisfied: aiofiles<25.0,>=22.0 in /usr/local/lib/python3.11/dist-packages (from gradio) (24.1.0)\n",
            "Requirement already satisfied: anyio<5.0,>=3.0 in /usr/local/lib/python3.11/dist-packages (from gradio) (4.9.0)\n",
            "Collecting brotli>=1.1.0 (from gradio)\n",
            "  Downloading Brotli-1.1.0-cp311-cp311-manylinux_2_17_x86_64.manylinux2014_x86_64.whl.metadata (5.5 kB)\n",
            "Requirement already satisfied: fastapi<1.0,>=0.115.2 in /usr/local/lib/python3.11/dist-packages (from gradio) (0.116.1)\n",
            "Requirement already satisfied: ffmpy in /usr/local/lib/python3.11/dist-packages (from gradio) (0.6.0)\n",
            "Collecting gradio-client==1.11.0 (from gradio)\n",
            "  Downloading gradio_client-1.11.0-py3-none-any.whl.metadata (7.1 kB)\n",
            "Requirement already satisfied: groovy~=0.1 in /usr/local/lib/python3.11/dist-packages (from gradio) (0.1.2)\n",
            "Requirement already satisfied: httpx<1.0,>=0.24.1 in /usr/local/lib/python3.11/dist-packages (from gradio) (0.28.1)\n",
            "Requirement already satisfied: huggingface-hub>=0.28.1 in /usr/local/lib/python3.11/dist-packages (from gradio) (0.33.4)\n",
            "Requirement already satisfied: jinja2<4.0 in /usr/local/lib/python3.11/dist-packages (from gradio) (3.1.6)\n",
            "Requirement already satisfied: markupsafe<4.0,>=2.0 in /usr/local/lib/python3.11/dist-packages (from gradio) (3.0.2)\n",
            "Requirement already satisfied: numpy<3.0,>=1.0 in /usr/local/lib/python3.11/dist-packages (from gradio) (2.0.2)\n",
            "Requirement already satisfied: orjson~=3.0 in /usr/local/lib/python3.11/dist-packages (from gradio) (3.11.0)\n",
            "Requirement already satisfied: packaging in /usr/local/lib/python3.11/dist-packages (from gradio) (25.0)\n",
            "Requirement already satisfied: pandas<3.0,>=1.0 in /usr/local/lib/python3.11/dist-packages (from gradio) (2.2.2)\n",
            "Requirement already satisfied: pillow<12.0,>=8.0 in /usr/local/lib/python3.11/dist-packages (from gradio) (11.2.1)\n",
            "Requirement already satisfied: pydantic<2.12,>=2.0 in /usr/local/lib/python3.11/dist-packages (from gradio) (2.11.7)\n",
            "Requirement already satisfied: pydub in /usr/local/lib/python3.11/dist-packages (from gradio) (0.25.1)\n",
            "Requirement already satisfied: python-multipart>=0.0.18 in /usr/local/lib/python3.11/dist-packages (from gradio) (0.0.20)\n",
            "Requirement already satisfied: pyyaml<7.0,>=5.0 in /usr/local/lib/python3.11/dist-packages (from gradio) (6.0.2)\n",
            "Requirement already satisfied: ruff>=0.9.3 in /usr/local/lib/python3.11/dist-packages (from gradio) (0.12.3)\n",
            "Requirement already satisfied: safehttpx<0.2.0,>=0.1.6 in /usr/local/lib/python3.11/dist-packages (from gradio) (0.1.6)\n",
            "Requirement already satisfied: semantic-version~=2.0 in /usr/local/lib/python3.11/dist-packages (from gradio) (2.10.0)\n",
            "Requirement already satisfied: starlette<1.0,>=0.40.0 in /usr/local/lib/python3.11/dist-packages (from gradio) (0.47.1)\n",
            "Requirement already satisfied: tomlkit<0.14.0,>=0.12.0 in /usr/local/lib/python3.11/dist-packages (from gradio) (0.13.3)\n",
            "Requirement already satisfied: typer<1.0,>=0.12 in /usr/local/lib/python3.11/dist-packages (from gradio) (0.16.0)\n",
            "Requirement already satisfied: typing-extensions~=4.0 in /usr/local/lib/python3.11/dist-packages (from gradio) (4.14.1)\n",
            "Requirement already satisfied: uvicorn>=0.14.0 in /usr/local/lib/python3.11/dist-packages (from gradio) (0.35.0)\n",
            "Requirement already satisfied: fsspec in /usr/local/lib/python3.11/dist-packages (from gradio-client==1.11.0->gradio) (2025.3.2)\n",
            "Requirement already satisfied: websockets<16.0,>=10.0 in /usr/local/lib/python3.11/dist-packages (from gradio-client==1.11.0->gradio) (15.0.1)\n",
            "Requirement already satisfied: idna>=2.8 in /usr/local/lib/python3.11/dist-packages (from anyio<5.0,>=3.0->gradio) (3.10)\n",
            "Requirement already satisfied: sniffio>=1.1 in /usr/local/lib/python3.11/dist-packages (from anyio<5.0,>=3.0->gradio) (1.3.1)\n",
            "Requirement already satisfied: certifi in /usr/local/lib/python3.11/dist-packages (from httpx<1.0,>=0.24.1->gradio) (2025.7.14)\n",
            "Requirement already satisfied: httpcore==1.* in /usr/local/lib/python3.11/dist-packages (from httpx<1.0,>=0.24.1->gradio) (1.0.9)\n",
            "Requirement already satisfied: h11>=0.16 in /usr/local/lib/python3.11/dist-packages (from httpcore==1.*->httpx<1.0,>=0.24.1->gradio) (0.16.0)\n",
            "Requirement already satisfied: filelock in /usr/local/lib/python3.11/dist-packages (from huggingface-hub>=0.28.1->gradio) (3.18.0)\n",
            "Requirement already satisfied: requests in /usr/local/lib/python3.11/dist-packages (from huggingface-hub>=0.28.1->gradio) (2.32.3)\n",
            "Requirement already satisfied: tqdm>=4.42.1 in /usr/local/lib/python3.11/dist-packages (from huggingface-hub>=0.28.1->gradio) (4.67.1)\n",
            "Requirement already satisfied: hf-xet<2.0.0,>=1.1.2 in /usr/local/lib/python3.11/dist-packages (from huggingface-hub>=0.28.1->gradio) (1.1.5)\n",
            "Requirement already satisfied: python-dateutil>=2.8.2 in /usr/local/lib/python3.11/dist-packages (from pandas<3.0,>=1.0->gradio) (2.9.0.post0)\n",
            "Requirement already satisfied: pytz>=2020.1 in /usr/local/lib/python3.11/dist-packages (from pandas<3.0,>=1.0->gradio) (2025.2)\n",
            "Requirement already satisfied: tzdata>=2022.7 in /usr/local/lib/python3.11/dist-packages (from pandas<3.0,>=1.0->gradio) (2025.2)\n",
            "Requirement already satisfied: annotated-types>=0.6.0 in /usr/local/lib/python3.11/dist-packages (from pydantic<2.12,>=2.0->gradio) (0.7.0)\n",
            "Requirement already satisfied: pydantic-core==2.33.2 in /usr/local/lib/python3.11/dist-packages (from pydantic<2.12,>=2.0->gradio) (2.33.2)\n",
            "Requirement already satisfied: typing-inspection>=0.4.0 in /usr/local/lib/python3.11/dist-packages (from pydantic<2.12,>=2.0->gradio) (0.4.1)\n",
            "Requirement already satisfied: click>=8.0.0 in /usr/local/lib/python3.11/dist-packages (from typer<1.0,>=0.12->gradio) (8.2.1)\n",
            "Requirement already satisfied: shellingham>=1.3.0 in /usr/local/lib/python3.11/dist-packages (from typer<1.0,>=0.12->gradio) (1.5.4)\n",
            "Requirement already satisfied: rich>=10.11.0 in /usr/local/lib/python3.11/dist-packages (from typer<1.0,>=0.12->gradio) (13.9.4)\n",
            "Requirement already satisfied: six>=1.5 in /usr/local/lib/python3.11/dist-packages (from python-dateutil>=2.8.2->pandas<3.0,>=1.0->gradio) (1.17.0)\n",
            "Requirement already satisfied: markdown-it-py>=2.2.0 in /usr/local/lib/python3.11/dist-packages (from rich>=10.11.0->typer<1.0,>=0.12->gradio) (3.0.0)\n",
            "Requirement already satisfied: pygments<3.0.0,>=2.13.0 in /usr/local/lib/python3.11/dist-packages (from rich>=10.11.0->typer<1.0,>=0.12->gradio) (2.19.2)\n",
            "Requirement already satisfied: charset-normalizer<4,>=2 in /usr/local/lib/python3.11/dist-packages (from requests->huggingface-hub>=0.28.1->gradio) (3.4.2)\n",
            "Requirement already satisfied: urllib3<3,>=1.21.1 in /usr/local/lib/python3.11/dist-packages (from requests->huggingface-hub>=0.28.1->gradio) (2.4.0)\n",
            "Requirement already satisfied: mdurl~=0.1 in /usr/local/lib/python3.11/dist-packages (from markdown-it-py>=2.2.0->rich>=10.11.0->typer<1.0,>=0.12->gradio) (0.1.2)\n",
            "Downloading gradio-5.38.0-py3-none-any.whl (59.6 MB)\n",
            "\u001b[2K   \u001b[90m━━━━━━━━━━━━━━━━━━━━━━━━━━━━━━━━━━━━━━━━\u001b[0m \u001b[32m59.6/59.6 MB\u001b[0m \u001b[31m20.7 MB/s\u001b[0m eta \u001b[36m0:00:00\u001b[0m\n",
            "\u001b[?25hDownloading gradio_client-1.11.0-py3-none-any.whl (324 kB)\n",
            "\u001b[2K   \u001b[90m━━━━━━━━━━━━━━━━━━━━━━━━━━━━━━━━━━━━━━━━\u001b[0m \u001b[32m324.5/324.5 kB\u001b[0m \u001b[31m28.1 MB/s\u001b[0m eta \u001b[36m0:00:00\u001b[0m\n",
            "\u001b[?25hDownloading Brotli-1.1.0-cp311-cp311-manylinux_2_17_x86_64.manylinux2014_x86_64.whl (2.9 MB)\n",
            "\u001b[2K   \u001b[90m━━━━━━━━━━━━━━━━━━━━━━━━━━━━━━━━━━━━━━━━\u001b[0m \u001b[32m2.9/2.9 MB\u001b[0m \u001b[31m111.1 MB/s\u001b[0m eta \u001b[36m0:00:00\u001b[0m\n",
            "\u001b[?25hInstalling collected packages: brotli, gradio-client, gradio\n",
            "  Attempting uninstall: gradio-client\n",
            "    Found existing installation: gradio_client 1.10.1\n",
            "    Uninstalling gradio_client-1.10.1:\n",
            "      Successfully uninstalled gradio_client-1.10.1\n",
            "  Attempting uninstall: gradio\n",
            "    Found existing installation: gradio 5.31.0\n",
            "    Uninstalling gradio-5.31.0:\n",
            "      Successfully uninstalled gradio-5.31.0\n",
            "Successfully installed brotli-1.1.0 gradio-5.38.0 gradio-client-1.11.0\n"
          ]
        },
        {
          "output_type": "display_data",
          "data": {
            "application/vnd.colab-display-data+json": {
              "pip_warning": {
                "packages": [
                  "gradio"
                ]
              },
              "id": "aed69390b8b842d8a826647db077529b"
            }
          },
          "metadata": {}
        }
      ]
    },
    {
      "cell_type": "code",
      "execution_count": null,
      "metadata": {
        "id": "A4rpMzeIgjgx",
        "colab": {
          "base_uri": "https://localhost:8080/",
          "height": 625
        },
        "outputId": "ff8a5c14-2c06-4179-fa56-60092bf05b29"
      },
      "outputs": [
        {
          "output_type": "stream",
          "name": "stdout",
          "text": [
            "It looks like you are running Gradio on a hosted Jupyter notebook, which requires `share=True`. Automatically setting `share=True` (you can turn this off by setting `share=False` in `launch()` explicitly).\n",
            "\n",
            "Colab notebook detected. To show errors in colab notebook, set debug=True in launch()\n",
            "* Running on public URL: https://68fa98ad0afb98b069.gradio.live\n",
            "\n",
            "This share link expires in 1 week. For free permanent hosting and GPU upgrades, run `gradio deploy` from the terminal in the working directory to deploy to Hugging Face Spaces (https://huggingface.co/spaces)\n"
          ]
        },
        {
          "output_type": "display_data",
          "data": {
            "text/plain": [
              "<IPython.core.display.HTML object>"
            ],
            "text/html": [
              "<div><iframe src=\"https://68fa98ad0afb98b069.gradio.live\" width=\"100%\" height=\"500\" allow=\"autoplay; camera; microphone; clipboard-read; clipboard-write;\" frameborder=\"0\" allowfullscreen></iframe></div>"
            ]
          },
          "metadata": {}
        },
        {
          "output_type": "execute_result",
          "data": {
            "text/plain": []
          },
          "metadata": {},
          "execution_count": 1
        }
      ],
      "source": [
        "import numpy as np\n",
        "import pandas as pd\n",
        "from sklearn.svm import SVC\n",
        "from sklearn.ensemble import RandomForestClassifier\n",
        "from sklearn.preprocessing import StandardScaler, LabelEncoder\n",
        "import gradio as gr\n",
        "\n",
        "# -----------------------\n",
        "# 1) 더미 학습 데이터 준비 (영어 컬럼명)\n",
        "# -----------------------\n",
        "np.random.seed(42)\n",
        "\n",
        "n = 100\n",
        "df = pd.DataFrame({\n",
        "    \"age_month\": np.random.randint(1, 150, n),\n",
        "    \"current_temp\": np.random.uniform(36.5, 40.5, n).round(1),\n",
        "    \"cough\": np.random.randint(0, 2, n),\n",
        "    \"runny_nose\": np.random.randint(0, 2, n),\n",
        "    \"diarrhea\": np.random.randint(0, 2, n),\n",
        "    \"convulsion\": np.random.randint(0, 2, n),\n",
        "    \"poor_appetite\": np.random.randint(0, 2, n),\n",
        "    \"sore_throat\": np.random.randint(0, 2, n),\n",
        "    \"rash\": np.random.randint(0, 2, n),\n",
        "    \"altered_consciousness\": np.random.randint(0, 2, n),\n",
        "    \"under_3_month\": np.random.randint(0, 2, n),\n",
        "})\n",
        "\n",
        "priority = np.random.choice([\"low(※)\", \"medium(※※)\", \"high(※※※)\", \"very high(※※※※)\"], n)\n",
        "diagnosis = np.random.choice([\"flu\", \"common cold\", \"gastroenteritis\", \"hand foot mouth\", \"febrile seizure\"], n)\n",
        "\n",
        "df[\"SVM_priority\"] = priority\n",
        "df[\"predicted_diagnosis\"] = diagnosis\n",
        "\n",
        "# -----------------------\n",
        "# 2) 레이블 변환\n",
        "# -----------------------\n",
        "priority_map = {\"low(※)\": 0, \"medium(※※)\": 1, \"high(※※※)\": 2, \"very high(※※※※)\": 3}\n",
        "df[\"priority_label\"] = df[\"SVM_priority\"].map(priority_map)\n",
        "\n",
        "diagnosis_encoder = LabelEncoder()\n",
        "df[\"diagnosis_label\"] = diagnosis_encoder.fit_transform(df[\"predicted_diagnosis\"])\n",
        "\n",
        "features = [\"age_month\", \"current_temp\", \"cough\", \"runny_nose\", \"diarrhea\", \"convulsion\",\n",
        "            \"poor_appetite\", \"sore_throat\", \"rash\", \"altered_consciousness\", \"under_3_month\"]\n",
        "\n",
        "X = df[features].values\n",
        "y_priority = df[\"priority_label\"].values\n",
        "y_diagnosis = df[\"diagnosis_label\"].values\n",
        "\n",
        "# -----------------------\n",
        "# 3) 모델 학습\n",
        "# -----------------------\n",
        "scaler = StandardScaler()\n",
        "X_scaled = scaler.fit_transform(X)\n",
        "\n",
        "svm_model = SVC(kernel=\"rbf\", probability=True)\n",
        "svm_model.fit(X_scaled, y_priority)\n",
        "\n",
        "rf_model = RandomForestClassifier(n_estimators=100, random_state=42)\n",
        "rf_model.fit(X_scaled, y_diagnosis)\n",
        "\n",
        "# -----------------------\n",
        "# 4) Gradio 예측 함수\n",
        "# -----------------------\n",
        "priority_reverse_map = {0: \"low(※)\", 1: \"medium(※※)\", 2: \"high(※※※)\", 3: \"very high(※※※※)\"}\n",
        "\n",
        "def predict_both(csv_file):\n",
        "    df_input = pd.read_csv(csv_file.name)\n",
        "    X_input = df_input[features].values\n",
        "    X_scaled = scaler.transform(X_input)\n",
        "\n",
        "    preds_priority = svm_model.predict(X_scaled)\n",
        "    preds_diagnosis = rf_model.predict(X_scaled)\n",
        "\n",
        "    df_input[\"SVM_priority\"] = [priority_reverse_map[p] for p in preds_priority]\n",
        "    df_input[\"predicted_diagnosis\"] = diagnosis_encoder.inverse_transform(preds_diagnosis)\n",
        "\n",
        "    return df_input\n",
        "\n",
        "# -----------------------\n",
        "# 5) Gradio 실행\n",
        "# -----------------------\n",
        "interface = gr.Interface(\n",
        "    fn=predict_both,\n",
        "    inputs=gr.File(file_types=['.csv']),\n",
        "    outputs=gr.Dataframe(),\n",
        "    title=\"✅ Medical Priority and Diagnosis Prediction\",\n",
        "    description=\"Upload CSV and get SVM priority + RandomForest diagnosis predictions.\"\n",
        ")\n",
        "\n",
        "interface.launch()"
      ]
    },
    {
      "cell_type": "code",
      "source": [
        "import gradio as gr\n",
        "from sklearn import svm\n",
        "import numpy as np\n",
        "\n",
        "# 예시 모델 (실제 모델로 대체)\n",
        "model = svm.SVC()\n",
        "X_train = np.array([[1, 0], [0, 1], [1, 1], [0, 0]])\n",
        "y_train = np.array([1, 1, 0, 0])\n",
        "model.fit(X_train, y_train)\n",
        "\n",
        "def predict_triage(fever, cough):\n",
        "    X = np.array([[fever, cough]])\n",
        "    prediction = model.predict(X)[0]\n",
        "    return \"고위험군\" if prediction == 1 else \"저위험군\"\n",
        "\n",
        "demo = gr.Interface(\n",
        "    fn=predict_triage,\n",
        "    inputs=[gr.Slider(0, 1, label=\"발열\"), gr.Slider(0, 1, label=\"기침\")],\n",
        "    outputs=\"text\",\n",
        "    title=\"AI 문진 기반 우선순위 예측 시뮬레이터\"\n",
        ")\n",
        "\n",
        "demo.launch()\n"
      ],
      "metadata": {
        "id": "T6u5P4Sugp6I"
      },
      "execution_count": null,
      "outputs": []
    },
    {
      "cell_type": "code",
      "source": [
        "# 1. 설치\n",
        "!pip install -q gradio\n",
        "\n",
        "# 2. 필요한 패키지 불러오기\n",
        "import gradio as gr\n",
        "import numpy as np\n",
        "from sklearn import svm\n",
        "from sklearn.preprocessing import StandardScaler\n",
        "from sklearn.model_selection import train_test_split\n",
        "\n",
        "# 3. 원본 데이터 구성 (너의 코드 그대로 반영)\n",
        "X = np.array([\n",
        "    [12, 38.5, 0, 0, 0, 0],\n",
        "    [6, 39.2, 0, 0, 0, 0],\n",
        "    [2, 38.8, 0, 0, 0, 1],\n",
        "    [24, 39.8, 1, 0, 0, 0],\n",
        "    [18, 39.5, 0, 1, 0, 0],\n",
        "    [5, 40.1, 0, 0, 1, 1],\n",
        "    [60, 39.0, 0, 0, 0, 0],\n",
        "    [10, 39.0, 0, 0, 0, 0],\n",
        "    [7, 38.0, 1, 0, 0, 0],\n",
        "    [1, 39.0, 0, 0, 0, 1],\n",
        "])\n",
        "y = np.array([0, 1, 1, 2, 3, 3, 0, 1, 2, 3])\n",
        "\n",
        "# 4. 학습 (너 코드 기반)\n",
        "X_train, X_test, y_train, y_test = train_test_split(X, y, test_size=0.3, random_state=42)\n",
        "scaler = StandardScaler()\n",
        "X_train_scaled = scaler.fit_transform(X_train)\n",
        "X_test_scaled = scaler.transform(X_test)\n",
        "svm_model = svm.SVC(kernel='rbf', C=1, probability=True)\n",
        "svm_model.fit(X_train_scaled, y_train)\n",
        "\n",
        "# 5. 예측 함수 정의\n",
        "def predict_priority_gradio(age_months, temp, resp, conv, conc):\n",
        "    is_infant = 1 if age_months < 3 else 0\n",
        "    features = np.array([[age_months, temp, resp, conv, conc, is_infant]])\n",
        "    scaled_features = scaler.transform(features)\n",
        "    pred = svm_model.predict(scaled_features)[0]\n",
        "    priority_map = {0: \"※ (낮음)\", 1: \"※※ (보통)\", 2: \"※※※ (높음)\", 3: \"※※※※ (매우 높음)\"}\n",
        "    return priority_map[pred]\n",
        "\n",
        "# 6. Gradio GUI 구성\n",
        "interface = gr.Interface(\n",
        "    fn=predict_priority_gradio,\n",
        "    inputs=[\n",
        "        gr.Slider(0, 144, value=12, step=1, label=\"연령 (개월)\"),\n",
        "        gr.Slider(35.0, 41.0, value=38.5, step=0.1, label=\"현재 체온 (도)\"),\n",
        "        gr.Radio([0, 1], label=\"호흡곤란 (0=없음, 1=있음)\", value=0),\n",
        "        gr.Radio([0, 1], label=\"경련 (0=없음, 1=있음)\", value=0),\n",
        "        gr.Radio([0, 1], label=\"의식변화 (0=없음, 1=있음)\", value=0),\n",
        "    ],\n",
        "    outputs=gr.Textbox(label=\"예측된 진료 우선순위\"),\n",
        "    title=\"SVM 기반 진료 우선순위 시뮬레이터\",\n",
        "    description=\"연령, 체온, 증상 등을 입력하면 우선순위를 예측합니다.\",\n",
        "    theme=\"soft\"\n",
        ")\n",
        "\n",
        "# 실행\n",
        "interface.launch()\n"
      ],
      "metadata": {
        "id": "3IIvfMsbgzGb"
      },
      "execution_count": null,
      "outputs": []
    },
    {
      "cell_type": "markdown",
      "source": [
        "# 시각화"
      ],
      "metadata": {
        "id": "QHt2DGR2j280"
      }
    },
    {
      "cell_type": "code",
      "source": [
        "import numpy as np\n",
        "import pandas as pd\n",
        "from sklearn.svm import SVC\n",
        "from sklearn.ensemble import RandomForestClassifier\n",
        "from sklearn.preprocessing import StandardScaler, LabelEncoder\n",
        "import gradio as gr\n",
        "import plotly.express as px\n",
        "\n",
        "# -----------------------\n",
        "# 1) 더미 학습 데이터 준비\n",
        "# -----------------------\n",
        "np.random.seed(42)\n",
        "n = 100\n",
        "\n",
        "df = pd.DataFrame({\n",
        "    \"age_month\": np.random.randint(1, 150, n),\n",
        "    \"current_temp\": np.random.uniform(36.5, 40.5, n).round(1),\n",
        "    \"cough\": np.random.randint(0, 2, n),\n",
        "    \"runny_nose\": np.random.randint(0, 2, n),\n",
        "    \"diarrhea\": np.random.randint(0, 2, n),\n",
        "    \"convulsion\": np.random.randint(0, 2, n),\n",
        "    \"poor_appetite\": np.random.randint(0, 2, n),\n",
        "    \"sore_throat\": np.random.randint(0, 2, n),\n",
        "    \"rash\": np.random.randint(0, 2, n),\n",
        "    \"altered_consciousness\": np.random.randint(0, 2, n),\n",
        "    \"under_3_month\": np.random.randint(0, 2, n),\n",
        "})\n",
        "\n",
        "priority = np.random.choice([\"low(※)\", \"medium(※※)\", \"high(※※※)\", \"very high(※※※※)\"], n)\n",
        "diagnosis = np.random.choice([\"flu\", \"common cold\", \"gastroenteritis\", \"hand foot mouth\", \"febrile seizure\"], n)\n",
        "\n",
        "df[\"SVM_priority\"] = priority\n",
        "df[\"predicted_diagnosis\"] = diagnosis\n",
        "\n",
        "# -----------------------\n",
        "# 2) Label Encoding\n",
        "# -----------------------\n",
        "priority_map = {\"low(※)\": 0, \"medium(※※)\": 1, \"high(※※※)\": 2, \"very high(※※※※)\": 3}\n",
        "priority_reverse_map = {0: \"low(※)\", 1: \"medium(※※)\", 2: \"high(※※※)\", 3: \"very high(※※※※)\"}\n",
        "\n",
        "df[\"priority_label\"] = df[\"SVM_priority\"].map(priority_map)\n",
        "\n",
        "diagnosis_encoder = LabelEncoder()\n",
        "df[\"diagnosis_label\"] = diagnosis_encoder.fit_transform(df[\"predicted_diagnosis\"])\n",
        "\n",
        "features = [\"age_month\", \"current_temp\", \"cough\", \"runny_nose\", \"diarrhea\",\n",
        "            \"convulsion\", \"poor_appetite\", \"sore_throat\", \"rash\",\n",
        "            \"altered_consciousness\", \"under_3_month\"]\n",
        "\n",
        "X = df[features].values\n",
        "y_priority = df[\"priority_label\"].values\n",
        "y_diagnosis = df[\"diagnosis_label\"].values\n",
        "\n",
        "# -----------------------\n",
        "# 3) 모델 학습\n",
        "# -----------------------\n",
        "scaler = StandardScaler()\n",
        "X_scaled = scaler.fit_transform(X)\n",
        "\n",
        "svm_model = SVC(kernel=\"rbf\", probability=True)\n",
        "svm_model.fit(X_scaled, y_priority)\n",
        "\n",
        "rf_model = RandomForestClassifier(n_estimators=100, random_state=42)\n",
        "rf_model.fit(X_scaled, y_diagnosis)\n",
        "\n",
        "# -----------------------\n",
        "# 4) Gradio 함수\n",
        "# -----------------------\n",
        "def predict_both(csv_file):\n",
        "    df_input = pd.read_csv(csv_file.name)\n",
        "    X_input = df_input[features].values\n",
        "    X_scaled_input = scaler.transform(X_input)\n",
        "\n",
        "    preds_priority = svm_model.predict(X_scaled_input)\n",
        "    preds_diagnosis = rf_model.predict(X_scaled_input)\n",
        "\n",
        "    df_input[\"SVM_priority\"] = [priority_reverse_map[p] for p in preds_priority]\n",
        "    df_input[\"predicted_diagnosis\"] = diagnosis_encoder.inverse_transform(preds_diagnosis)\n",
        "\n",
        "    display_df = df_input[features + [\"SVM_priority\", \"predicted_diagnosis\"]]\n",
        "\n",
        "    # 그래프: 우선순위\n",
        "    priority_counts = display_df[\"SVM_priority\"].value_counts().reset_index()\n",
        "    priority_counts.columns = [\"Priority\", \"Count\"]\n",
        "    fig_priority = px.bar(priority_counts, x=\"Priority\", y=\"Count\", title=\"Priority Distribution\")\n",
        "\n",
        "    # 그래프: 진단\n",
        "    fig_diag = px.pie(display_df, names=\"predicted_diagnosis\", title=\"Diagnosis Distribution\")\n",
        "\n",
        "    # 그래프: 증상\n",
        "    symptom_cols = [\"cough\", \"runny_nose\", \"diarrhea\", \"convulsion\",\n",
        "                    \"poor_appetite\", \"sore_throat\", \"rash\", \"altered_consciousness\"]\n",
        "    symptom_counts = display_df[symptom_cols].sum().sort_values(ascending=False).reset_index()\n",
        "    symptom_counts.columns = [\"Symptom\", \"Count\"]\n",
        "\n",
        "    fig_symptom = px.bar(symptom_counts, x=\"Symptom\", y=\"Count\", title=\"Symptom Occurrences\")\n",
        "\n",
        "    return display_df, fig_priority, fig_diag, fig_symptom\n",
        "\n",
        "# -----------------------\n",
        "# 5) Gradio 실행\n",
        "# -----------------------\n",
        "interface = gr.Interface(\n",
        "    fn=predict_both,\n",
        "    inputs=gr.File(file_types=['.csv']),\n",
        "    outputs=[\n",
        "        gr.Dataframe(label=\"Prediction Results\"),\n",
        "        gr.Plot(label=\"Priority Distribution\"),\n",
        "        gr.Plot(label=\"Diagnosis Distribution\"),\n",
        "        gr.Plot(label=\"Symptom Occurrences\"),\n",
        "    ],\n",
        "    description=\"Upload CSV file to see prediction results with summary charts.\"\n",
        ")\n",
        "\n",
        "interface.launch()\n"
      ],
      "metadata": {
        "colab": {
          "base_uri": "https://localhost:8080/",
          "height": 625
        },
        "id": "j17Hlxgdj1sv",
        "outputId": "aae8b5cb-e2ea-4c4a-b5e3-a03d16621ac9"
      },
      "execution_count": null,
      "outputs": [
        {
          "output_type": "stream",
          "name": "stdout",
          "text": [
            "It looks like you are running Gradio on a hosted Jupyter notebook, which requires `share=True`. Automatically setting `share=True` (you can turn this off by setting `share=False` in `launch()` explicitly).\n",
            "\n",
            "Colab notebook detected. To show errors in colab notebook, set debug=True in launch()\n",
            "* Running on public URL: https://34ab03762033a90210.gradio.live\n",
            "\n",
            "This share link expires in 1 week. For free permanent hosting and GPU upgrades, run `gradio deploy` from the terminal in the working directory to deploy to Hugging Face Spaces (https://huggingface.co/spaces)\n"
          ]
        },
        {
          "output_type": "display_data",
          "data": {
            "text/plain": [
              "<IPython.core.display.HTML object>"
            ],
            "text/html": [
              "<div><iframe src=\"https://34ab03762033a90210.gradio.live\" width=\"100%\" height=\"500\" allow=\"autoplay; camera; microphone; clipboard-read; clipboard-write;\" frameborder=\"0\" allowfullscreen></iframe></div>"
            ]
          },
          "metadata": {}
        },
        {
          "output_type": "execute_result",
          "data": {
            "text/plain": []
          },
          "metadata": {},
          "execution_count": 10
        }
      ]
    }
  ]
}